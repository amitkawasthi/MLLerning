{
 "cells": [
  {
   "cell_type": "markdown",
   "metadata": {
    "id": "a67ScoiwQkZW"
   },
   "source": [
    "# Assess the identified markers"
   ]
  },
  {
   "cell_type": "code",
   "execution_count": 1,
   "metadata": {
    "colab": {
     "base_uri": "https://localhost:8080/",
     "height": 106
    },
    "executionInfo": {
     "elapsed": 7,
     "status": "error",
     "timestamp": 1708244472436,
     "user": {
      "displayName": "Amit K. Awasthi",
      "userId": "09184965534576964360"
     },
     "user_tz": -330
    },
    "id": "lat7hElzQkZk",
    "outputId": "923c1ba9-4919-4abd-ab45-ba815e30cc62",
    "scrolled": false
   },
   "outputs": [],
   "source": [
    "import numpy as np\n",
    "import pandas as pd\n",
    "from scipy import stats\n",
    "\n",
    "from sklearn.ensemble import RandomForestClassifier\n",
    "from sklearn.linear_model import SGDClassifier\n",
    "from xgboost.sklearn import XGBClassifier\n",
    "from sklearn.feature_selection import f_classif, chi2, mutual_info_classif\n",
    "from sklearn.preprocessing import MinMaxScaler\n",
    "\n",
    "#from rdea.eval.cross_validation import do_cross_validation, do_cross_validation_with_feature_selection\n",
    "from rdea.eval.evaluate import do_train_test\n",
    "from rdea.filters.embedded import EmbeddedFilter\n",
    "from rdea.filters.mrmr import MRMRP\n",
    "from rdea.utils.help_functions import model_based_relevance, auc_relevance, load_DEGs\n",
    "\n",
    "\n",
    "import matplotlib.pyplot as plt\n",
    "%matplotlib inline\n",
    "import seaborn as sns\n",
    "import warnings\n",
    "\n",
    "# Comment these lines if you are not using Mac OS\n",
    "import matplotlib as mpl\n",
    "#mpl.use('MacOSX')\n",
    "import os\n",
    "os.environ['KMP_DUPLICATE_LIB_OK']='True'\n",
    "\n",
    "# Set random seed\n",
    "seed = 7\n",
    "np.random.seed(seed)"
   ]
  },
  {
   "cell_type": "markdown",
   "metadata": {
    "id": "IFFUg4NFQkZl"
   },
   "source": [
    "## Inputs and parameters"
   ]
  },
  {
   "cell_type": "code",
   "execution_count": 2,
   "metadata": {
    "id": "Aqun9vbsQkZl"
   },
   "outputs": [],
   "source": [
    "# ========== INPUTS ==========\n",
    "mydata = 'GSE64810'\n",
    "# in and out files\n",
    "data_file = 'data/'+ mydata +'_Train.csv'\n",
    "markers_file = 'results/fs_scores.csv'\n",
    "test_file = 'data/'+ mydata +'_Test.csv'\n",
    "degs_file = 'data/'+ mydata +'_NEWDEGS.txt'\n",
    "\n",
    "is_save_results = True\n",
    "\n",
    "# data pre-processing\n",
    "is_normalize_samples = False\n",
    "is_normalize_columns = True\n",
    "norm_filter = MinMaxScaler()\n",
    "\n",
    "# experiment\n",
    "label = 'disease'\n",
    "\n",
    "# No of markers\n",
    "min_markers = 1\n",
    "max_markers = 10\n",
    "\n",
    "# classifiers\n",
    "models = [\n",
    "  ('RF', RandomForestClassifier(n_estimators=100,  random_state=seed)),\n",
    "  ('LR', SGDClassifier(loss=\"log\", penalty=\"l2\", random_state=seed)),\n",
    "  ('XGB', XGBClassifier(objective=\"binary:logistic\", n_estimators=100, n_jobs=4, random_state=seed)),\n",
    " ]\n"
   ]
  },
  {
   "cell_type": "code",
   "execution_count": 3,
   "metadata": {
    "id": "-kHaJJ8eQkZl",
    "outputId": "3530a186-113d-4243-89e8-3c6b0374bdcc"
   },
   "outputs": [],
   "source": [
    "#markers_df.head()"
   ]
  },
  {
   "cell_type": "markdown",
   "metadata": {
    "id": "p4PyvgEKQkZn"
   },
   "source": [
    "<hr>\n",
    "<b>Do not modify the code below this line.</b><br>\n",
    "<hr>"
   ]
  },
  {
   "cell_type": "code",
   "execution_count": 4,
   "metadata": {
    "id": "J434Y3IuQkZn",
    "outputId": "3ce89936-856b-4dde-dc5e-b856f5467a66"
   },
   "outputs": [
    {
     "name": "stdout",
     "output_type": "stream",
     "text": [
      "30 markers loaded!\n"
     ]
    },
    {
     "data": {
      "text/html": [
       "<div>\n",
       "<style scoped>\n",
       "    .dataframe tbody tr th:only-of-type {\n",
       "        vertical-align: middle;\n",
       "    }\n",
       "\n",
       "    .dataframe tbody tr th {\n",
       "        vertical-align: top;\n",
       "    }\n",
       "\n",
       "    .dataframe thead th {\n",
       "        text-align: right;\n",
       "    }\n",
       "</style>\n",
       "<table border=\"1\" class=\"dataframe\">\n",
       "  <thead>\n",
       "    <tr style=\"text-align: right;\">\n",
       "      <th></th>\n",
       "      <th>feature</th>\n",
       "      <th>score</th>\n",
       "    </tr>\n",
       "  </thead>\n",
       "  <tbody>\n",
       "    <tr>\n",
       "      <th>0</th>\n",
       "      <td>10590</td>\n",
       "      <td>0.75</td>\n",
       "    </tr>\n",
       "    <tr>\n",
       "      <th>1</th>\n",
       "      <td>2255</td>\n",
       "      <td>0.50</td>\n",
       "    </tr>\n",
       "    <tr>\n",
       "      <th>2</th>\n",
       "      <td>168090</td>\n",
       "      <td>0.50</td>\n",
       "    </tr>\n",
       "    <tr>\n",
       "      <th>3</th>\n",
       "      <td>126695</td>\n",
       "      <td>0.50</td>\n",
       "    </tr>\n",
       "    <tr>\n",
       "      <th>4</th>\n",
       "      <td>105375370</td>\n",
       "      <td>0.50</td>\n",
       "    </tr>\n",
       "  </tbody>\n",
       "</table>\n",
       "</div>"
      ],
      "text/plain": [
       "     feature  score\n",
       "0      10590   0.75\n",
       "1       2255   0.50\n",
       "2     168090   0.50\n",
       "3     126695   0.50\n",
       "4  105375370   0.50"
      ]
     },
     "execution_count": 4,
     "metadata": {},
     "output_type": "execute_result"
    }
   ],
   "source": [
    "# load markers\n",
    "\n",
    "markers_df = pd.read_csv(markers_file)\n",
    "features = markers_df['feature'].values\n",
    "\n",
    "print('{} markers loaded!'.format(len(features)))\n",
    "\n",
    "markers_sets = []\n",
    "for i in range(min_markers,max_markers+1):\n",
    "    markers_sets.append(('top_'+str(i),features[:i]))\n",
    "    \n",
    "markers_df.head()"
   ]
  },
  {
   "cell_type": "code",
   "execution_count": 5,
   "metadata": {
    "id": "XBnUJDHrQkZn",
    "outputId": "b40f518b-1581-41e1-d368-b614c86ae9b7"
   },
   "outputs": [
    {
     "name": "stdout",
     "output_type": "stream",
     "text": [
      "Shape of data/GSE64810_Train.csv is (69, 22094)\n"
     ]
    },
    {
     "name": "stderr",
     "output_type": "stream",
     "text": [
      "C:\\ProgramData\\Anaconda3\\lib\\site-packages\\IPython\\core\\interactiveshell.py:3444: DtypeWarning: Columns (0) have mixed types.Specify dtype option on import or set low_memory=False.\n",
      "  exec(code_obj, self.user_global_ns, self.user_ns)\n"
     ]
    }
   ],
   "source": [
    "# Load data\n",
    "df = pd.read_csv(data_file)\n",
    "df=df.set_index('SID')\n",
    "df = df.transpose()\n",
    "print('Shape of {0} is {1}'.format(data_file, df.shape))\n",
    "y_train = df[label]"
   ]
  },
  {
   "cell_type": "code",
   "execution_count": 6,
   "metadata": {
    "id": "cDdPTFgDQkZo",
    "outputId": "5e9132e2-d6d9-400a-ce4d-8130bcba5858"
   },
   "outputs": [
    {
     "name": "stdout",
     "output_type": "stream",
     "text": [
      "Shape of data/GSE64810_Test.csv is (69, 22094)\n"
     ]
    }
   ],
   "source": [
    "# Load test data\n",
    "df_test = pd.read_csv(test_file,dtype={'SID':str})\n",
    "df_test=df_test.set_index('SID')\n",
    "df_test = df_test.transpose()\n",
    "\n",
    "print('Shape of {0} is {1}'.format(test_file, df_test.shape))\n",
    "y_test = df[label]"
   ]
  },
  {
   "cell_type": "markdown",
   "metadata": {
    "id": "O8y2yuwEQkZp"
   },
   "source": [
    "## Searching for optimal model"
   ]
  },
  {
   "cell_type": "code",
   "execution_count": 7,
   "metadata": {
    "id": "Zmz2atTLQkZp",
    "outputId": "47f46b93-cee1-4a2a-9f12-ad70e014a677",
    "scrolled": true
   },
   "outputs": [
    {
     "name": "stdout",
     "output_type": "stream",
     "text": [
      "Performance reported using:\t ACC\tSn\tSp\tMCC\tAUC\n",
      "top_1: [10590]\n"
     ]
    },
    {
     "ename": "KeyError",
     "evalue": "\"None of [Int64Index([10590], dtype='int64', name='SID')] are in the [columns]\"",
     "output_type": "error",
     "traceback": [
      "\u001b[1;31m---------------------------------------------------------------------------\u001b[0m",
      "\u001b[1;31mKeyError\u001b[0m                                  Traceback (most recent call last)",
      "\u001b[1;32mC:\\Users\\SHUBHR~1\\AppData\\Local\\Temp/ipykernel_15740/3715093041.py\u001b[0m in \u001b[0;36m<module>\u001b[1;34m\u001b[0m\n\u001b[0;32m     16\u001b[0m             \u001b[0mX_train\u001b[0m \u001b[1;33m=\u001b[0m \u001b[0mnew_df\u001b[0m\u001b[1;33m.\u001b[0m\u001b[0mvalues\u001b[0m\u001b[1;33m\u001b[0m\u001b[1;33m\u001b[0m\u001b[0m\n\u001b[0;32m     17\u001b[0m             \u001b[1;31m#new_df_test = df_test[markers[1]].copy()\u001b[0m\u001b[1;33m\u001b[0m\u001b[1;33m\u001b[0m\u001b[0m\n\u001b[1;32m---> 18\u001b[1;33m             \u001b[0mnew_df_test\u001b[0m \u001b[1;33m=\u001b[0m \u001b[0mdf_test\u001b[0m\u001b[1;33m[\u001b[0m\u001b[0mmarkers\u001b[0m\u001b[1;33m[\u001b[0m\u001b[1;36m1\u001b[0m\u001b[1;33m]\u001b[0m\u001b[1;33m]\u001b[0m\u001b[1;33m.\u001b[0m\u001b[0mcopy\u001b[0m\u001b[1;33m(\u001b[0m\u001b[1;33m)\u001b[0m\u001b[1;33m\u001b[0m\u001b[1;33m\u001b[0m\u001b[0m\n\u001b[0m\u001b[0;32m     19\u001b[0m             \u001b[0mX_test\u001b[0m \u001b[1;33m=\u001b[0m \u001b[0mnew_df_test\u001b[0m\u001b[1;33m.\u001b[0m\u001b[0mvalues\u001b[0m\u001b[1;33m\u001b[0m\u001b[1;33m\u001b[0m\u001b[0m\n\u001b[0;32m     20\u001b[0m             \u001b[1;31m# Normalize per sample?\u001b[0m\u001b[1;33m\u001b[0m\u001b[1;33m\u001b[0m\u001b[0m\n",
      "\u001b[1;32mC:\\ProgramData\\Anaconda3\\lib\\site-packages\\pandas\\core\\frame.py\u001b[0m in \u001b[0;36m__getitem__\u001b[1;34m(self, key)\u001b[0m\n\u001b[0;32m   3462\u001b[0m             \u001b[1;32mif\u001b[0m \u001b[0mis_iterator\u001b[0m\u001b[1;33m(\u001b[0m\u001b[0mkey\u001b[0m\u001b[1;33m)\u001b[0m\u001b[1;33m:\u001b[0m\u001b[1;33m\u001b[0m\u001b[1;33m\u001b[0m\u001b[0m\n\u001b[0;32m   3463\u001b[0m                 \u001b[0mkey\u001b[0m \u001b[1;33m=\u001b[0m \u001b[0mlist\u001b[0m\u001b[1;33m(\u001b[0m\u001b[0mkey\u001b[0m\u001b[1;33m)\u001b[0m\u001b[1;33m\u001b[0m\u001b[1;33m\u001b[0m\u001b[0m\n\u001b[1;32m-> 3464\u001b[1;33m             \u001b[0mindexer\u001b[0m \u001b[1;33m=\u001b[0m \u001b[0mself\u001b[0m\u001b[1;33m.\u001b[0m\u001b[0mloc\u001b[0m\u001b[1;33m.\u001b[0m\u001b[0m_get_listlike_indexer\u001b[0m\u001b[1;33m(\u001b[0m\u001b[0mkey\u001b[0m\u001b[1;33m,\u001b[0m \u001b[0maxis\u001b[0m\u001b[1;33m=\u001b[0m\u001b[1;36m1\u001b[0m\u001b[1;33m)\u001b[0m\u001b[1;33m[\u001b[0m\u001b[1;36m1\u001b[0m\u001b[1;33m]\u001b[0m\u001b[1;33m\u001b[0m\u001b[1;33m\u001b[0m\u001b[0m\n\u001b[0m\u001b[0;32m   3465\u001b[0m \u001b[1;33m\u001b[0m\u001b[0m\n\u001b[0;32m   3466\u001b[0m         \u001b[1;31m# take() does not accept boolean indexers\u001b[0m\u001b[1;33m\u001b[0m\u001b[1;33m\u001b[0m\u001b[0m\n",
      "\u001b[1;32mC:\\ProgramData\\Anaconda3\\lib\\site-packages\\pandas\\core\\indexing.py\u001b[0m in \u001b[0;36m_get_listlike_indexer\u001b[1;34m(self, key, axis)\u001b[0m\n\u001b[0;32m   1312\u001b[0m             \u001b[0mkeyarr\u001b[0m\u001b[1;33m,\u001b[0m \u001b[0mindexer\u001b[0m\u001b[1;33m,\u001b[0m \u001b[0mnew_indexer\u001b[0m \u001b[1;33m=\u001b[0m \u001b[0max\u001b[0m\u001b[1;33m.\u001b[0m\u001b[0m_reindex_non_unique\u001b[0m\u001b[1;33m(\u001b[0m\u001b[0mkeyarr\u001b[0m\u001b[1;33m)\u001b[0m\u001b[1;33m\u001b[0m\u001b[1;33m\u001b[0m\u001b[0m\n\u001b[0;32m   1313\u001b[0m \u001b[1;33m\u001b[0m\u001b[0m\n\u001b[1;32m-> 1314\u001b[1;33m         \u001b[0mself\u001b[0m\u001b[1;33m.\u001b[0m\u001b[0m_validate_read_indexer\u001b[0m\u001b[1;33m(\u001b[0m\u001b[0mkeyarr\u001b[0m\u001b[1;33m,\u001b[0m \u001b[0mindexer\u001b[0m\u001b[1;33m,\u001b[0m \u001b[0maxis\u001b[0m\u001b[1;33m)\u001b[0m\u001b[1;33m\u001b[0m\u001b[1;33m\u001b[0m\u001b[0m\n\u001b[0m\u001b[0;32m   1315\u001b[0m \u001b[1;33m\u001b[0m\u001b[0m\n\u001b[0;32m   1316\u001b[0m         if needs_i8_conversion(ax.dtype) or isinstance(\n",
      "\u001b[1;32mC:\\ProgramData\\Anaconda3\\lib\\site-packages\\pandas\\core\\indexing.py\u001b[0m in \u001b[0;36m_validate_read_indexer\u001b[1;34m(self, key, indexer, axis)\u001b[0m\n\u001b[0;32m   1372\u001b[0m                 \u001b[1;32mif\u001b[0m \u001b[0muse_interval_msg\u001b[0m\u001b[1;33m:\u001b[0m\u001b[1;33m\u001b[0m\u001b[1;33m\u001b[0m\u001b[0m\n\u001b[0;32m   1373\u001b[0m                     \u001b[0mkey\u001b[0m \u001b[1;33m=\u001b[0m \u001b[0mlist\u001b[0m\u001b[1;33m(\u001b[0m\u001b[0mkey\u001b[0m\u001b[1;33m)\u001b[0m\u001b[1;33m\u001b[0m\u001b[1;33m\u001b[0m\u001b[0m\n\u001b[1;32m-> 1374\u001b[1;33m                 \u001b[1;32mraise\u001b[0m \u001b[0mKeyError\u001b[0m\u001b[1;33m(\u001b[0m\u001b[1;34mf\"None of [{key}] are in the [{axis_name}]\"\u001b[0m\u001b[1;33m)\u001b[0m\u001b[1;33m\u001b[0m\u001b[1;33m\u001b[0m\u001b[0m\n\u001b[0m\u001b[0;32m   1375\u001b[0m \u001b[1;33m\u001b[0m\u001b[0m\n\u001b[0;32m   1376\u001b[0m             \u001b[0mnot_found\u001b[0m \u001b[1;33m=\u001b[0m \u001b[0mlist\u001b[0m\u001b[1;33m(\u001b[0m\u001b[0mensure_index\u001b[0m\u001b[1;33m(\u001b[0m\u001b[0mkey\u001b[0m\u001b[1;33m)\u001b[0m\u001b[1;33m[\u001b[0m\u001b[0mmissing_mask\u001b[0m\u001b[1;33m.\u001b[0m\u001b[0mnonzero\u001b[0m\u001b[1;33m(\u001b[0m\u001b[1;33m)\u001b[0m\u001b[1;33m[\u001b[0m\u001b[1;36m0\u001b[0m\u001b[1;33m]\u001b[0m\u001b[1;33m]\u001b[0m\u001b[1;33m.\u001b[0m\u001b[0munique\u001b[0m\u001b[1;33m(\u001b[0m\u001b[1;33m)\u001b[0m\u001b[1;33m)\u001b[0m\u001b[1;33m\u001b[0m\u001b[1;33m\u001b[0m\u001b[0m\n",
      "\u001b[1;31mKeyError\u001b[0m: \"None of [Int64Index([10590], dtype='int64', name='SID')] are in the [columns]\""
     ]
    },
    {
     "data": {
      "image/png": "[encoded data removed]",
      "text/plain": [
       "<Figure size 864x864 with 1 Axes>"
      ]
     },
     "metadata": {
      "needs_background": "light"
     },
     "output_type": "display_data"
    }
   ],
   "source": [
    "with warnings.catch_warnings():\n",
    "    warnings.simplefilter(\"ignore\")\n",
    "    print('Performance reported using:\\t ACC\\tSn\\tSp\\tMCC\\tAUC')\n",
    "\n",
    "\n",
    "\n",
    "    for model in models:\n",
    "        plt.figure(figsize=(12, 12))\n",
    "        plt.xlabel('False Positive Rate', fontsize='x-large')\n",
    "        plt.ylabel('True Positive Rate', fontsize='x-large')\n",
    "\n",
    "        for markers in markers_sets:\n",
    "            print('{0}: {1}'.format(markers[0], markers[1]))\n",
    "            #new_df = df[markers[1]].copy()\n",
    "            new_df = df[markers[1]].copy()\n",
    "            X_train = new_df.values\n",
    "            #new_df_test = df_test[markers[1]].copy()\n",
    "            new_df_test = df_test[markers[1]].copy()\n",
    "            X_test = new_df_test.values\n",
    "            # Normalize per sample?\n",
    "            if is_normalize_samples:\n",
    "                minMax_filter = MinMaxScaler()\n",
    "                X_train = minMax_filter.fit_transform(X_train.T, y_train).T\n",
    "                X_test = minMax_filter.transform(X_test)\n",
    "            # Normalize per column?\n",
    "            if is_normalize_columns:\n",
    "                minMax_filter = MinMaxScaler()\n",
    "                X_train = minMax_filter.fit_transform(X_train, y_train)\n",
    "                X_test = minMax_filter.transform(X_test)\n",
    "\n",
    "            print('Shape of training data is {}'.format(np.shape(X_train)))\n",
    "            print('Shape of test data is {}'.format(np.shape(X_test)))\n",
    "\n",
    "\n",
    "            res = do_train_test(X_train, y_train, X_test, y_test, model=model[1], fs_model=None)\n",
    "            print('{0}: {1}'.format(model[0], res['metrics']))\n",
    "            plt.plot(res['fpr'], res['tpr'], label=markers[0]+', AUC='+str(round(res['metrics'][4],2)), linewidth=2)\n",
    "\n",
    "        leg = plt.legend(loc='best', fontsize='x-large')\n",
    "        plt.suptitle(model[0])\n",
    "        print('----------------------------------------------------------------------------------------------------')\n",
    "        plt.show()\n",
    "\n"
   ]
  },
  {
   "cell_type": "markdown",
   "metadata": {
    "id": "sEuT6xHWQkZq"
   },
   "source": [
    "We noted that the best performance is obrained using LR classifier and top2 markers."
   ]
  },
  {
   "cell_type": "markdown",
   "metadata": {
    "id": "T1SHkZqGQkZq"
   },
   "source": [
    "## ROC for different classifiers using the optimal number of markers"
   ]
  },
  {
   "cell_type": "code",
   "execution_count": null,
   "metadata": {
    "id": "BnOiWPcXQkZq",
    "outputId": "ee5f454a-494a-485c-98bb-da90c2171ba2"
   },
   "outputs": [],
   "source": [
    "markers_sets =[('top_3',features[:3])]\n",
    "\n",
    "with warnings.catch_warnings():\n",
    "    warnings.simplefilter(\"ignore\")\n",
    "\n",
    "    plt.figure(figsize=(12, 12))\n",
    "    plt.xlabel('False Positive Rate', fontsize='x-large')\n",
    "    plt.ylabel('True Positive Rate', fontsize='x-large')\n",
    "\n",
    "\n",
    "    for model in models:\n",
    "        for markers in markers_sets:\n",
    "            print('{0}: {1}'.format(markers[0], markers[1]))\n",
    "            new_df = df[markers[1]].copy()\n",
    "            X_train = new_df.values\n",
    "            new_df_test = df_test[markers[1]].copy()\n",
    "            X_test = new_df_test.values\n",
    "            # Normalize per sample?\n",
    "            if is_normalize_samples:\n",
    "                minMax_filter = MinMaxScaler()\n",
    "                X_train = minMax_filter.fit_transform(X_train.T, y_train).T\n",
    "                X_test = minMax_filter.transform(X_test)\n",
    "            # Normalize per column?\n",
    "            if is_normalize_columns:\n",
    "                minMax_filter = MinMaxScaler()\n",
    "                X_train = minMax_filter.fit_transform(X_train, y_train)\n",
    "                X_test = minMax_filter.transform(X_test)\n",
    "\n",
    "            print('Shape of training data is {}'.format(np.shape(X_train)))\n",
    "            print('Shape of test data is {}'.format(np.shape(X_test)))\n",
    "\n",
    "\n",
    "            res = do_train_test(X_train, y_train, X_test, y_test, model=model[1], fs_model=None)\n",
    "            print('{0}: {1}'.format(model[0], res['metrics']))\n",
    "            plt.plot(res['fpr'], res['tpr'], label=model[0]+', AUC='+str(round(res['metrics'][4],2)), linewidth=2)\n",
    "\n",
    "    leg = plt.legend(loc='lower right', fontsize='x-large')\n",
    "    #plt.suptitle(target_model[0])\n",
    "    plt.show()"
   ]
  },
  {
   "cell_type": "markdown",
   "metadata": {
    "id": "JoRBd6tvQkZr"
   },
   "source": [
    "## Performance of final model using different choices of the threshold for binarizing the predictions"
   ]
  },
  {
   "cell_type": "code",
   "execution_count": null,
   "metadata": {
    "id": "1PBJr8GeQkZr",
    "outputId": "273d1a68-d2f7-4e1f-ec38-852f8afb218e"
   },
   "outputs": [],
   "source": [
    "model = ('LR', SGDClassifier(loss=\"log\", penalty=\"l2\", random_state=seed))\n",
    "#model = ('RF', RandomForestClassifier(n_estimators=100,  random_state=seed))\n",
    "markers_sets =[('top_3',features[:3])]\n",
    "\n",
    "with warnings.catch_warnings():\n",
    "    warnings.simplefilter(\"ignore\")\n",
    "\n",
    "    print('ACC\\tSn\\tSp\\tMCC\\tAUC')\n",
    "    for thrd in range(0,101,2):\n",
    "        for markers in markers_sets:\n",
    "            new_df = df[markers[1]].copy()\n",
    "            X_train = new_df.values\n",
    "            new_df_test = df_test[markers[1]].copy()\n",
    "            X_test = new_df_test.values\n",
    "            # Normalize per sample?\n",
    "            if is_normalize_samples:\n",
    "                minMax_filter = MinMaxScaler()\n",
    "                X_train = minMax_filter.fit_transform(X_train.T, y_train).T\n",
    "                X_test = minMax_filter.transform(X_test)\n",
    "             # Normalize per column?\n",
    "            if is_normalize_columns:\n",
    "                minMax_filter = MinMaxScaler()\n",
    "                X_train = minMax_filter.fit_transform(X_train, y_train)\n",
    "                X_test = minMax_filter.transform(X_test)\n",
    "\n",
    "            res = do_train_test(X_train, y_train, X_test, y_test, model=model[1], fs_model=None,  threshold=thrd/100.0)\n",
    "            print('{0}: {1}'.format(thrd/100.0, res['metrics']))\n"
   ]
  },
  {
   "cell_type": "markdown",
   "metadata": {
    "id": "r-GuptesQkZr"
   },
   "source": [
    "- The highest MCC of 0.38 is reached using threshold = 0.58\n",
    "- Sp of 0.9 is reached using threshold = 0.60\n",
    "- Sp of 0.95 is reached using threshold = 0.74"
   ]
  },
  {
   "cell_type": "markdown",
   "metadata": {
    "id": "qcI7CzCnQkZr"
   },
   "source": [
    "## Final model vs model using all DEGs"
   ]
  },
  {
   "cell_type": "code",
   "execution_count": null,
   "metadata": {
    "id": "7VD7ZmkZQkZs",
    "outputId": "3ca5cdc4-024f-403f-a479-59c4b95b6871"
   },
   "outputs": [],
   "source": [
    "# load DEGs if provided\n",
    "if degs_file is not None:\n",
    "    DEGs = load_DEGs(degs_file)\n",
    "    print('{} DEGs loaded!'.format(len(DEGs)))\n",
    "else:\n",
    "    print('No DEGs provided.')"
   ]
  },
  {
   "cell_type": "code",
   "execution_count": null,
   "metadata": {
    "id": "yWCAY2RhQkZs"
   },
   "outputs": [],
   "source": [
    "top3_ml = features[:3]\n",
    "markers_sets =[\n",
    "               ('top3_ml', top3_ml),\n",
    "               ('DEGs', DEGs)\n",
    "]\n",
    "models = [\n",
    "  ('LR', SGDClassifier(loss=\"log\", penalty=\"l2\", random_state=seed)),\n",
    " ]\n"
   ]
  },
  {
   "cell_type": "code",
   "execution_count": null,
   "metadata": {
    "id": "mDi7GRfgQkZs",
    "outputId": "bdd9034b-a693-4ba3-8164-180fe32c69c2"
   },
   "outputs": [],
   "source": [
    "with warnings.catch_warnings():\n",
    "    warnings.simplefilter(\"ignore\")\n",
    "\n",
    "    plt.figure(figsize=(12, 12))\n",
    "    plt.xlabel('False Positive Rate', fontsize='x-large')\n",
    "    plt.ylabel('True Positive Rate', fontsize='x-large')\n",
    "\n",
    "\n",
    "    for model in models:\n",
    "        for markers in markers_sets:\n",
    "            print('{0}: {1}'.format(markers[0], markers[1]))\n",
    "            new_df = df[markers[1]].copy()\n",
    "            X_train = new_df.values\n",
    "            new_df_test = df_test[markers[1]].copy()\n",
    "            X_test = new_df_test.values\n",
    "            # Normalize per sample?\n",
    "            if is_normalize_samples:\n",
    "                minMax_filter = MinMaxScaler()\n",
    "                X_train = minMax_filter.fit_transform(X_train.T, y_train).T\n",
    "                X_test = minMax_filter.transform(X_test)\n",
    "            # Normalize per column?\n",
    "            if is_normalize_columns:\n",
    "                minMax_filter = MinMaxScaler()\n",
    "                X_train = minMax_filter.fit_transform(X_train, y_train)\n",
    "                X_test = minMax_filter.transform(X_test)\n",
    "\n",
    "            print('Shape of training data is {}'.format(np.shape(X_train)))\n",
    "            print('Shape of test data is {}'.format(np.shape(X_test)))\n",
    "\n",
    "\n",
    "            res = do_train_test(X_train, y_train, X_test, y_test, model=model[1], fs_model=None)\n",
    "            print('{0}: {1}'.format(model[0], res['metrics']))\n",
    "            plt.plot(res['fpr'], res['tpr'], label=markers[0]+', AUC='+str(round(res['metrics'][4],2)), linewidth=2)\n",
    "\n",
    "    leg = plt.legend(loc='lower right', fontsize='x-large')\n",
    "    #plt.suptitle(target_model[0])\n",
    "    plt.show()"
   ]
  },
  {
   "cell_type": "markdown",
   "metadata": {
    "id": "gz8J25guQkZt"
   },
   "source": [
    "We note that, for specificity > 0.8, the LR model using only top 3 marker genes has a better sensitivity than the LR model trained using all DEGs."
   ]
  },
  {
   "cell_type": "code",
   "execution_count": null,
   "metadata": {
    "id": "AsvvScApQkZt"
   },
   "outputs": [],
   "source": []
  }
 ],
 "metadata": {
  "colab": {
   "provenance": []
  },
  "kernelspec": {
   "display_name": "Python 3 (ipykernel)",
   "language": "python",
   "name": "python3"
  },
  "language_info": {
   "codemirror_mode": {
    "name": "ipython",
    "version": 3
   },
   "file_extension": ".py",
   "mimetype": "text/x-python",
   "name": "python",
   "nbconvert_exporter": "python",
   "pygments_lexer": "ipython3",
   "version": "3.9.7"
  }
 },
 "nbformat": 4,
 "nbformat_minor": 1
}
