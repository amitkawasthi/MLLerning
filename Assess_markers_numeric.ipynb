{
 "cells": [
  {
   "cell_type": "markdown",
   "metadata": {},
   "source": [
    "# Assess the identified markers"
   ]
  },
  {
   "cell_type": "code",
   "execution_count": 1,
   "metadata": {
    "scrolled": false
   },
   "outputs": [],
   "source": [
    "import numpy as np\n",
    "import pandas as pd\n",
    "from scipy import stats\n",
    "\n",
    "from sklearn.ensemble import RandomForestClassifier\n",
    "from sklearn.linear_model import SGDClassifier\n",
    "from xgboost.sklearn import XGBClassifier\n",
    "from sklearn.feature_selection import f_classif, chi2, mutual_info_classif\n",
    "from sklearn.preprocessing import MinMaxScaler\n",
    "\n",
    "#from rdea.eval.cross_validation import do_cross_validation, do_cross_validation_with_feature_selection\n",
    "from rdea.eval.evaluate import do_train_test\n",
    "from rdea.filters.embedded import EmbeddedFilter\n",
    "from rdea.filters.mrmr import MRMRP\n",
    "from rdea.utils.help_functions import model_based_relevance, auc_relevance, load_DEGs\n",
    "\n",
    "\n",
    "import matplotlib.pyplot as plt\n",
    "%matplotlib inline   \n",
    "import seaborn as sns\n",
    "import warnings\n",
    "\n",
    "# Comment these lines if you are not using Mac OS\n",
    "import matplotlib as mpl\n",
    "#mpl.use('MacOSX')\n",
    "import os\n",
    "os.environ['KMP_DUPLICATE_LIB_OK']='True'\n",
    "\n",
    "# Set random seed\n",
    "seed = 7\n",
    "np.random.seed(seed)"
   ]
  },
  {
   "cell_type": "markdown",
   "metadata": {},
   "source": [
    "## Inputs and parameters"
   ]
  },
  {
   "cell_type": "code",
   "execution_count": 2,
   "metadata": {},
   "outputs": [],
   "source": [
    "# ========== INPUTS ==========\n",
    "mydata = 'GSE64810'\n",
    "# in and out files\n",
    "data_file = 'data/'+ mydata +'_Train.csv'\n",
    "markers_file = 'results/fs_scores.csv'\n",
    "test_file = 'data/'+ mydata +'_Test.csv'\n",
    "degs_file =  'data/'+ mydata +'_NEWDEGs.txt'\n",
    "\n",
    "is_save_results = True\n",
    "\n",
    "# data pre-processing\n",
    "is_normalize_samples = False\n",
    "is_normalize_columns = True\n",
    "norm_filter = MinMaxScaler()\n",
    "\n",
    "# experiment\n",
    "label = 'disease'\n",
    "\n",
    "# No of markers\n",
    "min_markers = 1\n",
    "max_markers = 10\n",
    "\n",
    "# classifiers\n",
    "models = [\n",
    "  ('RF', RandomForestClassifier(n_estimators=100,  random_state=seed)),\n",
    "  ('LR', SGDClassifier(loss=\"log\", penalty=\"l2\", random_state=seed)),\n",
    "  ('XGB', XGBClassifier(objective=\"binary:logistic\", n_estimators=100, n_jobs=4, random_state=seed)),\n",
    " ]\n"
   ]
  },
  {
   "cell_type": "markdown",
   "metadata": {},
   "source": [
    "<hr>\n",
    "<b>Do not modify the code below this line.</b><br>\n",
    "<hr>"
   ]
  },
  {
   "cell_type": "code",
   "execution_count": 14,
   "metadata": {},
   "outputs": [
    {
     "name": "stdout",
     "output_type": "stream",
     "text": [
      "30 markers loaded!\n"
     ]
    }
   ],
   "source": [
    "# load markers \n",
    "\n",
    "markers_df = pd.read_csv(markers_file)\n",
    "markers_df.feature = markers_df.feature.astype(str)\n",
    "\n",
    "\n",
    "features = markers_df['feature'].values\n",
    "\n",
    "print('{} markers loaded!'.format(len(features)))\n",
    "\n",
    "markers_sets = []\n",
    "for i in range(min_markers,max_markers+1):\n",
    "    markers_sets.append(('top_'+str(i),features[:i]))"
   ]
  },
  {
   "cell_type": "code",
   "execution_count": 15,
   "metadata": {},
   "outputs": [
    {
     "data": {
      "text/html": [
       "<div>\n",
       "<style scoped>\n",
       "    .dataframe tbody tr th:only-of-type {\n",
       "        vertical-align: middle;\n",
       "    }\n",
       "\n",
       "    .dataframe tbody tr th {\n",
       "        vertical-align: top;\n",
       "    }\n",
       "\n",
       "    .dataframe thead th {\n",
       "        text-align: right;\n",
       "    }\n",
       "</style>\n",
       "<table border=\"1\" class=\"dataframe\">\n",
       "  <thead>\n",
       "    <tr style=\"text-align: right;\">\n",
       "      <th></th>\n",
       "      <th>feature</th>\n",
       "      <th>score</th>\n",
       "    </tr>\n",
       "  </thead>\n",
       "  <tbody>\n",
       "    <tr>\n",
       "      <th>0</th>\n",
       "      <td>10590</td>\n",
       "      <td>0.75</td>\n",
       "    </tr>\n",
       "    <tr>\n",
       "      <th>1</th>\n",
       "      <td>2255</td>\n",
       "      <td>0.50</td>\n",
       "    </tr>\n",
       "    <tr>\n",
       "      <th>2</th>\n",
       "      <td>168090</td>\n",
       "      <td>0.50</td>\n",
       "    </tr>\n",
       "    <tr>\n",
       "      <th>3</th>\n",
       "      <td>126695</td>\n",
       "      <td>0.50</td>\n",
       "    </tr>\n",
       "    <tr>\n",
       "      <th>4</th>\n",
       "      <td>105375370</td>\n",
       "      <td>0.50</td>\n",
       "    </tr>\n",
       "    <tr>\n",
       "      <th>5</th>\n",
       "      <td>105374443</td>\n",
       "      <td>0.50</td>\n",
       "    </tr>\n",
       "    <tr>\n",
       "      <th>6</th>\n",
       "      <td>60675</td>\n",
       "      <td>0.50</td>\n",
       "    </tr>\n",
       "    <tr>\n",
       "      <th>7</th>\n",
       "      <td>158062</td>\n",
       "      <td>0.50</td>\n",
       "    </tr>\n",
       "    <tr>\n",
       "      <th>8</th>\n",
       "      <td>387700</td>\n",
       "      <td>0.50</td>\n",
       "    </tr>\n",
       "    <tr>\n",
       "      <th>9</th>\n",
       "      <td>221074</td>\n",
       "      <td>0.25</td>\n",
       "    </tr>\n",
       "    <tr>\n",
       "      <th>10</th>\n",
       "      <td>25975</td>\n",
       "      <td>0.25</td>\n",
       "    </tr>\n",
       "    <tr>\n",
       "      <th>11</th>\n",
       "      <td>10644</td>\n",
       "      <td>0.25</td>\n",
       "    </tr>\n",
       "    <tr>\n",
       "      <th>12</th>\n",
       "      <td>102724246</td>\n",
       "      <td>0.25</td>\n",
       "    </tr>\n",
       "    <tr>\n",
       "      <th>13</th>\n",
       "      <td>105372270</td>\n",
       "      <td>0.25</td>\n",
       "    </tr>\n",
       "    <tr>\n",
       "      <th>14</th>\n",
       "      <td>8324</td>\n",
       "      <td>0.25</td>\n",
       "    </tr>\n",
       "    <tr>\n",
       "      <th>15</th>\n",
       "      <td>105371919</td>\n",
       "      <td>0.25</td>\n",
       "    </tr>\n",
       "    <tr>\n",
       "      <th>16</th>\n",
       "      <td>105370624</td>\n",
       "      <td>0.25</td>\n",
       "    </tr>\n",
       "    <tr>\n",
       "      <th>17</th>\n",
       "      <td>29881</td>\n",
       "      <td>0.25</td>\n",
       "    </tr>\n",
       "    <tr>\n",
       "      <th>18</th>\n",
       "      <td>387065</td>\n",
       "      <td>0.25</td>\n",
       "    </tr>\n",
       "    <tr>\n",
       "      <th>19</th>\n",
       "      <td>654</td>\n",
       "      <td>0.25</td>\n",
       "    </tr>\n",
       "    <tr>\n",
       "      <th>20</th>\n",
       "      <td>137835</td>\n",
       "      <td>0.25</td>\n",
       "    </tr>\n",
       "    <tr>\n",
       "      <th>21</th>\n",
       "      <td>107985303</td>\n",
       "      <td>0.25</td>\n",
       "    </tr>\n",
       "    <tr>\n",
       "      <th>22</th>\n",
       "      <td>688</td>\n",
       "      <td>0.25</td>\n",
       "    </tr>\n",
       "    <tr>\n",
       "      <th>23</th>\n",
       "      <td>3975</td>\n",
       "      <td>0.25</td>\n",
       "    </tr>\n",
       "    <tr>\n",
       "      <th>24</th>\n",
       "      <td>4318</td>\n",
       "      <td>0.25</td>\n",
       "    </tr>\n",
       "    <tr>\n",
       "      <th>25</th>\n",
       "      <td>105371849</td>\n",
       "      <td>0.25</td>\n",
       "    </tr>\n",
       "    <tr>\n",
       "      <th>26</th>\n",
       "      <td>7850</td>\n",
       "      <td>0.25</td>\n",
       "    </tr>\n",
       "    <tr>\n",
       "      <th>27</th>\n",
       "      <td>284260</td>\n",
       "      <td>0.25</td>\n",
       "    </tr>\n",
       "    <tr>\n",
       "      <th>28</th>\n",
       "      <td>7054</td>\n",
       "      <td>0.25</td>\n",
       "    </tr>\n",
       "    <tr>\n",
       "      <th>29</th>\n",
       "      <td>306</td>\n",
       "      <td>0.25</td>\n",
       "    </tr>\n",
       "  </tbody>\n",
       "</table>\n",
       "</div>"
      ],
      "text/plain": [
       "      feature  score\n",
       "0       10590   0.75\n",
       "1        2255   0.50\n",
       "2      168090   0.50\n",
       "3      126695   0.50\n",
       "4   105375370   0.50\n",
       "5   105374443   0.50\n",
       "6       60675   0.50\n",
       "7      158062   0.50\n",
       "8      387700   0.50\n",
       "9      221074   0.25\n",
       "10      25975   0.25\n",
       "11      10644   0.25\n",
       "12  102724246   0.25\n",
       "13  105372270   0.25\n",
       "14       8324   0.25\n",
       "15  105371919   0.25\n",
       "16  105370624   0.25\n",
       "17      29881   0.25\n",
       "18     387065   0.25\n",
       "19        654   0.25\n",
       "20     137835   0.25\n",
       "21  107985303   0.25\n",
       "22        688   0.25\n",
       "23       3975   0.25\n",
       "24       4318   0.25\n",
       "25  105371849   0.25\n",
       "26       7850   0.25\n",
       "27     284260   0.25\n",
       "28       7054   0.25\n",
       "29        306   0.25"
      ]
     },
     "execution_count": 15,
     "metadata": {},
     "output_type": "execute_result"
    }
   ],
   "source": [
    "markers_df"
   ]
  },
  {
   "cell_type": "code",
   "execution_count": 16,
   "metadata": {},
   "outputs": [
    {
     "name": "stdout",
     "output_type": "stream",
     "text": [
      "Shape of data/GSE64810_Train.csv is (69, 22094)\n"
     ]
    },
    {
     "name": "stderr",
     "output_type": "stream",
     "text": [
      "C:\\ProgramData\\Anaconda3\\lib\\site-packages\\IPython\\core\\interactiveshell.py:3444: DtypeWarning: Columns (0) have mixed types.Specify dtype option on import or set low_memory=False.\n",
      "  exec(code_obj, self.user_global_ns, self.user_ns)\n"
     ]
    }
   ],
   "source": [
    "# Load data \n",
    "df = pd.read_csv(data_file)\n",
    "df=df.set_index('SID')\n",
    "df = df.transpose()\n",
    "print('Shape of {0} is {1}'.format(data_file, df.shape))\n",
    "y_train = df[label]"
   ]
  },
  {
   "cell_type": "code",
   "execution_count": null,
   "metadata": {},
   "outputs": [],
   "source": []
  },
  {
   "cell_type": "code",
   "execution_count": 5,
   "metadata": {},
   "outputs": [
    {
     "name": "stdout",
     "output_type": "stream",
     "text": [
      "Shape of data/GSE64810_Test.csv is (69, 22094)\n"
     ]
    }
   ],
   "source": [
    "# Load test data \n",
    "df_test = pd.read_csv(test_file,dtype={'SID':str})\n",
    "df_test=df_test.set_index('SID')\n",
    "df_test = df_test.transpose()\n",
    "\n",
    "print('Shape of {0} is {1}'.format(test_file, df_test.shape))\n",
    "y_test = df[label]"
   ]
  },
  {
   "cell_type": "code",
   "execution_count": 31,
   "metadata": {},
   "outputs": [
    {
     "data": {
      "text/plain": [
       "[('top_1', array(['10590'], dtype=object)),\n",
       " ('top_2', array(['10590', '2255'], dtype=object)),\n",
       " ('top_3', array(['10590', '2255', '168090'], dtype=object)),\n",
       " ('top_4', array(['10590', '2255', '168090', '126695'], dtype=object)),\n",
       " ('top_5',\n",
       "  array(['10590', '2255', '168090', '126695', '105375370'], dtype=object)),\n",
       " ('top_6',\n",
       "  array(['10590', '2255', '168090', '126695', '105375370', '105374443'],\n",
       "        dtype=object)),\n",
       " ('top_7',\n",
       "  array(['10590', '2255', '168090', '126695', '105375370', '105374443',\n",
       "         '60675'], dtype=object)),\n",
       " ('top_8',\n",
       "  array(['10590', '2255', '168090', '126695', '105375370', '105374443',\n",
       "         '60675', '158062'], dtype=object)),\n",
       " ('top_9',\n",
       "  array(['10590', '2255', '168090', '126695', '105375370', '105374443',\n",
       "         '60675', '158062', '387700'], dtype=object)),\n",
       " ('top_10',\n",
       "  array(['10590', '2255', '168090', '126695', '105375370', '105374443',\n",
       "         '60675', '158062', '387700', '221074'], dtype=object))]"
      ]
     },
     "execution_count": 31,
     "metadata": {},
     "output_type": "execute_result"
    }
   ],
   "source": [
    "markers_sets"
   ]
  },
  {
   "cell_type": "markdown",
   "metadata": {},
   "source": [
    "## Searching for optimal model"
   ]
  },
  {
   "cell_type": "code",
   "execution_count": 35,
   "metadata": {},
   "outputs": [
    {
     "name": "stdout",
     "output_type": "stream",
     "text": [
      "Performance reported using:\t ACC\tSn\tSp\tMCC\tAUC\n",
      "top_1: ['10590']\n",
      "Shape of training data is (69, 2)\n",
      "Shape of test data is (69, 2)\n",
      "RF: [1. 1. 1. 1. 1.]\n",
      "top_2: ['10590' '2255']\n",
      "Shape of training data is (69, 2)\n",
      "Shape of test data is (69, 2)\n",
      "RF: [1. 1. 1. 1. 1.]\n",
      "top_3: ['10590' '2255' '168090']\n",
      "Shape of training data is (69, 2)\n",
      "Shape of test data is (69, 2)\n",
      "RF: [1. 1. 1. 1. 1.]\n",
      "top_4: ['10590' '2255' '168090' '126695']\n",
      "Shape of training data is (69, 2)\n",
      "Shape of test data is (69, 2)\n",
      "RF: [1. 1. 1. 1. 1.]\n",
      "top_5: ['10590' '2255' '168090' '126695' '105375370']\n",
      "Shape of training data is (69, 2)\n",
      "Shape of test data is (69, 2)\n",
      "RF: [1. 1. 1. 1. 1.]\n",
      "top_6: ['10590' '2255' '168090' '126695' '105375370' '105374443']\n",
      "Shape of training data is (69, 2)\n",
      "Shape of test data is (69, 2)\n",
      "RF: [1. 1. 1. 1. 1.]\n",
      "top_7: ['10590' '2255' '168090' '126695' '105375370' '105374443' '60675']\n",
      "Shape of training data is (69, 2)\n",
      "Shape of test data is (69, 2)\n",
      "RF: [1. 1. 1. 1. 1.]\n",
      "top_8: ['10590' '2255' '168090' '126695' '105375370' '105374443' '60675' '158062']\n",
      "Shape of training data is (69, 2)\n",
      "Shape of test data is (69, 2)\n",
      "RF: [1. 1. 1. 1. 1.]\n",
      "top_9: ['10590' '2255' '168090' '126695' '105375370' '105374443' '60675' '158062'\n",
      " '387700']\n",
      "Shape of training data is (69, 2)\n",
      "Shape of test data is (69, 2)\n",
      "RF: [1. 1. 1. 1. 1.]\n",
      "top_10: ['10590' '2255' '168090' '126695' '105375370' '105374443' '60675' '158062'\n",
      " '387700' '221074']\n",
      "Shape of training data is (69, 2)\n",
      "Shape of test data is (69, 2)\n",
      "RF: [1. 1. 1. 1. 1.]\n",
      "----------------------------------------------------------------------------------------------------\n"
     ]
    },
    {
     "data": {
      "image/png": "[encoded data removed]",
      "text/plain": [
       "<Figure size 864x864 with 1 Axes>"
      ]
     },
     "metadata": {
      "needs_background": "light"
     },
     "output_type": "display_data"
    },
    {
     "name": "stdout",
     "output_type": "stream",
     "text": [
      "top_1: ['10590']\n",
      "Shape of training data is (69, 2)\n",
      "Shape of test data is (69, 2)\n",
      "LR: [0.31884058 0.95       0.06122449 0.02179179 0.68469388]\n",
      "top_2: ['10590' '2255']\n",
      "Shape of training data is (69, 2)\n",
      "Shape of test data is (69, 2)\n",
      "LR: [0.31884058 0.95       0.06122449 0.02179179 0.68469388]\n",
      "top_3: ['10590' '2255' '168090']\n",
      "Shape of training data is (69, 2)\n",
      "Shape of test data is (69, 2)\n",
      "LR: [0.31884058 0.95       0.06122449 0.02179179 0.68469388]\n",
      "top_4: ['10590' '2255' '168090' '126695']\n",
      "Shape of training data is (69, 2)\n",
      "Shape of test data is (69, 2)\n",
      "LR: [0.31884058 0.95       0.06122449 0.02179179 0.68469388]\n",
      "top_5: ['10590' '2255' '168090' '126695' '105375370']\n",
      "Shape of training data is (69, 2)\n",
      "Shape of test data is (69, 2)\n",
      "LR: [0.31884058 0.95       0.06122449 0.02179179 0.68469388]\n",
      "top_6: ['10590' '2255' '168090' '126695' '105375370' '105374443']\n",
      "Shape of training data is (69, 2)\n",
      "Shape of test data is (69, 2)\n",
      "LR: [0.31884058 0.95       0.06122449 0.02179179 0.68469388]\n",
      "top_7: ['10590' '2255' '168090' '126695' '105375370' '105374443' '60675']\n",
      "Shape of training data is (69, 2)\n",
      "Shape of test data is (69, 2)\n",
      "LR: [0.31884058 0.95       0.06122449 0.02179179 0.68469388]\n",
      "top_8: ['10590' '2255' '168090' '126695' '105375370' '105374443' '60675' '158062']\n",
      "Shape of training data is (69, 2)\n",
      "Shape of test data is (69, 2)\n",
      "LR: [0.31884058 0.95       0.06122449 0.02179179 0.68469388]\n",
      "top_9: ['10590' '2255' '168090' '126695' '105375370' '105374443' '60675' '158062'\n",
      " '387700']\n",
      "Shape of training data is (69, 2)\n",
      "Shape of test data is (69, 2)\n",
      "LR: [0.31884058 0.95       0.06122449 0.02179179 0.68469388]\n",
      "top_10: ['10590' '2255' '168090' '126695' '105375370' '105374443' '60675' '158062'\n",
      " '387700' '221074']\n",
      "Shape of training data is (69, 2)\n",
      "Shape of test data is (69, 2)\n",
      "LR: [0.31884058 0.95       0.06122449 0.02179179 0.68469388]\n",
      "----------------------------------------------------------------------------------------------------\n"
     ]
    },
    {
     "data": {
      "image/png": "[encoded data removed]",
      "text/plain": [
       "<Figure size 864x864 with 1 Axes>"
      ]
     },
     "metadata": {
      "needs_background": "light"
     },
     "output_type": "display_data"
    },
    {
     "name": "stdout",
     "output_type": "stream",
     "text": [
      "top_1: ['10590']\n",
      "Shape of training data is (69, 2)\n",
      "Shape of test data is (69, 2)\n",
      "[19:17:46] WARNING: D:\\bld\\xgboost-split_1645118015404\\work\\src\\learner.cc:1115: Starting in XGBoost 1.3.0, the default evaluation metric used with the objective 'binary:logistic' was changed from 'error' to 'logloss'. Explicitly set eval_metric if you'd like to restore the old behavior.\n",
      "XGB: [1. 1. 1. 1. 1.]\n",
      "top_2: ['10590' '2255']\n",
      "Shape of training data is (69, 2)\n",
      "Shape of test data is (69, 2)\n",
      "[19:17:46] WARNING: D:\\bld\\xgboost-split_1645118015404\\work\\src\\learner.cc:1115: Starting in XGBoost 1.3.0, the default evaluation metric used with the objective 'binary:logistic' was changed from 'error' to 'logloss'. Explicitly set eval_metric if you'd like to restore the old behavior.\n",
      "XGB: [1. 1. 1. 1. 1.]\n",
      "top_3: ['10590' '2255' '168090']\n",
      "Shape of training data is (69, 2)\n",
      "Shape of test data is (69, 2)\n",
      "[19:17:46] WARNING: D:\\bld\\xgboost-split_1645118015404\\work\\src\\learner.cc:1115: Starting in XGBoost 1.3.0, the default evaluation metric used with the objective 'binary:logistic' was changed from 'error' to 'logloss'. Explicitly set eval_metric if you'd like to restore the old behavior.\n",
      "XGB: [1. 1. 1. 1. 1.]\n",
      "top_4: ['10590' '2255' '168090' '126695']\n",
      "Shape of training data is (69, 2)\n",
      "Shape of test data is (69, 2)\n",
      "[19:17:46] WARNING: D:\\bld\\xgboost-split_1645118015404\\work\\src\\learner.cc:1115: Starting in XGBoost 1.3.0, the default evaluation metric used with the objective 'binary:logistic' was changed from 'error' to 'logloss'. Explicitly set eval_metric if you'd like to restore the old behavior.\n",
      "XGB: [1. 1. 1. 1. 1.]\n",
      "top_5: ['10590' '2255' '168090' '126695' '105375370']\n",
      "Shape of training data is (69, 2)\n",
      "Shape of test data is (69, 2)\n",
      "[19:17:46] WARNING: D:\\bld\\xgboost-split_1645118015404\\work\\src\\learner.cc:1115: Starting in XGBoost 1.3.0, the default evaluation metric used with the objective 'binary:logistic' was changed from 'error' to 'logloss'. Explicitly set eval_metric if you'd like to restore the old behavior.\n",
      "XGB: [1. 1. 1. 1. 1.]\n",
      "top_6: ['10590' '2255' '168090' '126695' '105375370' '105374443']\n",
      "Shape of training data is (69, 2)\n",
      "Shape of test data is (69, 2)\n",
      "[19:17:46] WARNING: D:\\bld\\xgboost-split_1645118015404\\work\\src\\learner.cc:1115: Starting in XGBoost 1.3.0, the default evaluation metric used with the objective 'binary:logistic' was changed from 'error' to 'logloss'. Explicitly set eval_metric if you'd like to restore the old behavior.\n",
      "XGB: [1. 1. 1. 1. 1.]\n",
      "top_7: ['10590' '2255' '168090' '126695' '105375370' '105374443' '60675']\n",
      "Shape of training data is (69, 2)\n",
      "Shape of test data is (69, 2)\n",
      "[19:17:46] WARNING: D:\\bld\\xgboost-split_1645118015404\\work\\src\\learner.cc:1115: Starting in XGBoost 1.3.0, the default evaluation metric used with the objective 'binary:logistic' was changed from 'error' to 'logloss'. Explicitly set eval_metric if you'd like to restore the old behavior.\n",
      "XGB: [1. 1. 1. 1. 1.]\n",
      "top_8: ['10590' '2255' '168090' '126695' '105375370' '105374443' '60675' '158062']\n",
      "Shape of training data is (69, 2)\n",
      "Shape of test data is (69, 2)\n",
      "[19:17:46] WARNING: D:\\bld\\xgboost-split_1645118015404\\work\\src\\learner.cc:1115: Starting in XGBoost 1.3.0, the default evaluation metric used with the objective 'binary:logistic' was changed from 'error' to 'logloss'. Explicitly set eval_metric if you'd like to restore the old behavior.\n",
      "XGB: [1. 1. 1. 1. 1.]\n",
      "top_9: ['10590' '2255' '168090' '126695' '105375370' '105374443' '60675' '158062'\n",
      " '387700']\n",
      "Shape of training data is (69, 2)\n",
      "Shape of test data is (69, 2)\n",
      "[19:17:46] WARNING: D:\\bld\\xgboost-split_1645118015404\\work\\src\\learner.cc:1115: Starting in XGBoost 1.3.0, the default evaluation metric used with the objective 'binary:logistic' was changed from 'error' to 'logloss'. Explicitly set eval_metric if you'd like to restore the old behavior.\n",
      "XGB: [1. 1. 1. 1. 1.]\n",
      "top_10: ['10590' '2255' '168090' '126695' '105375370' '105374443' '60675' '158062'\n",
      " '387700' '221074']\n",
      "Shape of training data is (69, 2)\n",
      "Shape of test data is (69, 2)\n",
      "[19:17:46] WARNING: D:\\bld\\xgboost-split_1645118015404\\work\\src\\learner.cc:1115: Starting in XGBoost 1.3.0, the default evaluation metric used with the objective 'binary:logistic' was changed from 'error' to 'logloss'. Explicitly set eval_metric if you'd like to restore the old behavior.\n",
      "XGB: [1. 1. 1. 1. 1.]\n",
      "----------------------------------------------------------------------------------------------------\n"
     ]
    },
    {
     "data": {
      "image/png": "[encoded data removed]",
      "text/plain": [
       "<Figure size 864x864 with 1 Axes>"
      ]
     },
     "metadata": {
      "needs_background": "light"
     },
     "output_type": "display_data"
    }
   ],
   "source": [
    "with warnings.catch_warnings():\n",
    "    warnings.simplefilter(\"ignore\")\n",
    "    print('Performance reported using:\\t ACC\\tSn\\tSp\\tMCC\\tAUC')\n",
    "\n",
    "\n",
    "\n",
    "    for model in models:\n",
    "        plt.figure(figsize=(12, 12))\n",
    "        plt.xlabel('False Positive Rate', fontsize='x-large')\n",
    "        plt.ylabel('True Positive Rate', fontsize='x-large')\n",
    "\n",
    "        for markers in markers_sets:\n",
    "            print('{0}: {1}'.format(markers[0], markers[1]))\n",
    "            markers[1]\n",
    "            #new_df = df[markers[1]].copy()\n",
    "            #new_df = df.iloc[:,markers[1]].copy()\n",
    "            X_train = new_df.values\n",
    "            #new_df_test = df_test[markers[1]].copy()\n",
    "            #new_df_test = df_test.iloc[:,markers[1]].copy()\n",
    "            X_test = new_df_test.values\n",
    "            # Normalize per sample?\n",
    "            if is_normalize_samples:\n",
    "                minMax_filter = MinMaxScaler()\n",
    "                X_train = minMax_filter.fit_transform(X_train.T, y_train).T\n",
    "                X_test = minMax_filter.transform(X_test)\n",
    "            # Normalize per column?\n",
    "            if is_normalize_columns:\n",
    "                minMax_filter = MinMaxScaler()\n",
    "                X_train = minMax_filter.fit_transform(X_train, y_train)\n",
    "                X_test = minMax_filter.transform(X_test)\n",
    "\n",
    "            print('Shape of training data is {}'.format(np.shape(X_train)))\n",
    "            print('Shape of test data is {}'.format(np.shape(X_test)))\n",
    "\n",
    "\n",
    "            res = do_train_test(X_train, y_train, X_test, y_test, model=model[1], fs_model=None)\n",
    "            print('{0}: {1}'.format(model[0], res['metrics']))\n",
    "            plt.plot(res['fpr'], res['tpr'], label=markers[0]+', AUC='+str(round(res['metrics'][4],2)), linewidth=2)\n",
    "\n",
    "        leg = plt.legend(loc='best', fontsize='x-large')\n",
    "        plt.suptitle(model[0])\n",
    "        print('----------------------------------------------------------------------------------------------------')\n",
    "        plt.show()\n",
    "\n"
   ]
  },
  {
   "cell_type": "markdown",
   "metadata": {},
   "source": [
    "We noted that the best performance is obrained using LR classifier and top2 markers."
   ]
  },
  {
   "cell_type": "markdown",
   "metadata": {},
   "source": [
    "## ROC for different classifiers using the optimal number of markers"
   ]
  },
  {
   "cell_type": "code",
   "execution_count": null,
   "metadata": {},
   "outputs": [],
   "source": [
    "markers_sets =[('top_3',features[:3])]\n",
    "\n",
    "with warnings.catch_warnings():\n",
    "    warnings.simplefilter(\"ignore\")\n",
    "\n",
    "    plt.figure(figsize=(12, 12))\n",
    "    plt.xlabel('False Positive Rate', fontsize='x-large')\n",
    "    plt.ylabel('True Positive Rate', fontsize='x-large')\n",
    "\n",
    "\n",
    "    for model in models:\n",
    "        for markers in markers_sets:\n",
    "            print('{0}: {1}'.format(markers[0], markers[1]))\n",
    "            new_df = df.iloc[:,markers[1]].copy()\n",
    "            X_train = new_df.values\n",
    "            new_df_test = df_test.iloc[:,markers[1]].copy()\n",
    "            X_test = new_df_test.values\n",
    "            # Normalize per sample?\n",
    "            if is_normalize_samples:\n",
    "                minMax_filter = MinMaxScaler()\n",
    "                X_train = minMax_filter.fit_transform(X_train.T, y_train).T\n",
    "                X_test = minMax_filter.transform(X_test)\n",
    "            # Normalize per column?\n",
    "            if is_normalize_columns:\n",
    "                minMax_filter = MinMaxScaler()\n",
    "                X_train = minMax_filter.fit_transform(X_train, y_train)\n",
    "                X_test = minMax_filter.transform(X_test)\n",
    "\n",
    "            print('Shape of training data is {}'.format(np.shape(X_train)))\n",
    "            print('Shape of test data is {}'.format(np.shape(X_test)))\n",
    "\n",
    "\n",
    "            res = do_train_test(X_train, y_train, X_test, y_test, model=model[1], fs_model=None)\n",
    "            print('{0}: {1}'.format(model[0], res['metrics']))\n",
    "            plt.plot(res['fpr'], res['tpr'], label=model[0]+', AUC='+str(round(res['metrics'][4],2)), linewidth=2)\n",
    "\n",
    "    leg = plt.legend(loc='lower right', fontsize='x-large')\n",
    "    #plt.suptitle(target_model[0])\n",
    "    plt.show()"
   ]
  },
  {
   "cell_type": "markdown",
   "metadata": {},
   "source": [
    "## Performance of final model using different choices of the threshold for binarizing the predictions"
   ]
  },
  {
   "cell_type": "code",
   "execution_count": null,
   "metadata": {},
   "outputs": [],
   "source": [
    "model = ('LR', SGDClassifier(loss=\"log\", penalty=\"l2\", random_state=seed))\n",
    "#model = ('RF', RandomForestClassifier(n_estimators=100,  random_state=seed))\n",
    "markers_sets =[('top_3',features[:3])]\n",
    "\n",
    "with warnings.catch_warnings():\n",
    "    warnings.simplefilter(\"ignore\")\n",
    "\n",
    "    print('ACC\\tSn\\tSp\\tMCC\\tAUC')\n",
    "    for thrd in range(0,101,2):\n",
    "        for markers in markers_sets:\n",
    "            new_df = df.iloc[:,markers[1]].copy()\n",
    "            X_train = new_df.values\n",
    "            new_df_test = df_test.iloc[:,markers[1]].copy()\n",
    "            X_test = new_df_test.values\n",
    "            # Normalize per sample?\n",
    "            if is_normalize_samples:\n",
    "                minMax_filter = MinMaxScaler()\n",
    "                X_train = minMax_filter.fit_transform(X_train.T, y_train).T\n",
    "                X_test = minMax_filter.transform(X_test)\n",
    "             # Normalize per column?\n",
    "            if is_normalize_columns:\n",
    "                minMax_filter = MinMaxScaler()\n",
    "                X_train = minMax_filter.fit_transform(X_train, y_train)\n",
    "                X_test = minMax_filter.transform(X_test)\n",
    "\n",
    "            res = do_train_test(X_train, y_train, X_test, y_test, model=model[1], fs_model=None,  threshold=thrd/100.0)\n",
    "            print('{0}: {1}'.format(thrd/100.0, res['metrics']))\n"
   ]
  },
  {
   "cell_type": "markdown",
   "metadata": {},
   "source": [
    "- The highest MCC of 0.38 is reached using threshold = 0.58\n",
    "- Sp of 0.9 is reached using threshold = 0.60\n",
    "- Sp of 0.95 is reached using threshold = 0.74"
   ]
  },
  {
   "cell_type": "markdown",
   "metadata": {},
   "source": [
    "## Final model vs model using all DEGs"
   ]
  },
  {
   "cell_type": "code",
   "execution_count": null,
   "metadata": {},
   "outputs": [],
   "source": [
    "# load DEGs if provided\n",
    "if degs_file is not None:\n",
    "    DEGs = load_DEGs(degs_file)\n",
    "    print('{} DEGs loaded!'.format(len(DEGs)))\n",
    "else:\n",
    "    print('No DEGs provided.')"
   ]
  },
  {
   "cell_type": "code",
   "execution_count": null,
   "metadata": {},
   "outputs": [],
   "source": [
    "top3_ml = features[:3]\n",
    "markers_sets =[\n",
    "               ('top3_ml', top3_ml),\n",
    "               ('DEGs', DEGs)\n",
    "]\n",
    "models = [\n",
    "  ('LR', SGDClassifier(loss=\"log\", penalty=\"l2\", random_state=seed)),\n",
    " ]\n"
   ]
  },
  {
   "cell_type": "code",
   "execution_count": null,
   "metadata": {},
   "outputs": [],
   "source": [
    "with warnings.catch_warnings():\n",
    "    warnings.simplefilter(\"ignore\")\n",
    "\n",
    "    plt.figure(figsize=(12, 12))\n",
    "    plt.xlabel('False Positive Rate', fontsize='x-large')\n",
    "    plt.ylabel('True Positive Rate', fontsize='x-large')\n",
    "\n",
    "\n",
    "    for model in models:\n",
    "        for markers in markers_sets:\n",
    "            print('{0}: {1}'.format(markers[0], markers[1]))\n",
    "            new_df = df.iloc[:,markers[1]].copy()\n",
    "            X_train = new_df.values\n",
    "            new_df_test = df_test.iloc[:,markers[1]].copy()\n",
    "            X_test = new_df_test.values\n",
    "            # Normalize per sample?\n",
    "            if is_normalize_samples:\n",
    "                minMax_filter = MinMaxScaler()\n",
    "                X_train = minMax_filter.fit_transform(X_train.T, y_train).T\n",
    "                X_test = minMax_filter.transform(X_test)\n",
    "            # Normalize per column?\n",
    "            if is_normalize_columns:\n",
    "                minMax_filter = MinMaxScaler()\n",
    "                X_train = minMax_filter.fit_transform(X_train, y_train)\n",
    "                X_test = minMax_filter.transform(X_test)\n",
    "\n",
    "            print('Shape of training data is {}'.format(np.shape(X_train)))\n",
    "            print('Shape of test data is {}'.format(np.shape(X_test)))\n",
    "\n",
    "\n",
    "            res = do_train_test(X_train, y_train, X_test, y_test, model=model[1], fs_model=None)\n",
    "            print('{0}: {1}'.format(model[0], res['metrics']))\n",
    "            plt.plot(res['fpr'], res['tpr'], label=markers[0]+', AUC='+str(round(res['metrics'][4],2)), linewidth=2)\n",
    "\n",
    "    leg = plt.legend(loc='lower right', fontsize='x-large')\n",
    "    #plt.suptitle(target_model[0])\n",
    "    plt.show()"
   ]
  },
  {
   "cell_type": "markdown",
   "metadata": {},
   "source": [
    "We note that, for specificity > 0.8, the LR model using only top 3 marker genes has a better sensitivity than the LR model trained using all DEGs."
   ]
  }
 ],
 "metadata": {
  "kernelspec": {
   "display_name": "Python 3 (ipykernel)",
   "language": "python",
   "name": "python3"
  },
  "language_info": {
   "codemirror_mode": {
    "name": "ipython",
    "version": 3
   },
   "file_extension": ".py",
   "mimetype": "text/x-python",
   "name": "python",
   "nbconvert_exporter": "python",
   "pygments_lexer": "ipython3",
   "version": "3.9.7"
  }
 },
 "nbformat": 4,
 "nbformat_minor": 2
}
